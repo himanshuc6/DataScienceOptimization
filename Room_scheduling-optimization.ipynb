{
 "cells": [
  {
   "cell_type": "code",
   "execution_count": 1,
   "metadata": {},
   "outputs": [],
   "source": [
    "#Importing Gurobi and Numpy\n",
    "from gurobipy import *\n",
    "import numpy as np\n",
    "\n"
   ]
  },
  {
   "cell_type": "code",
   "execution_count": 2,
   "metadata": {},
   "outputs": [],
   "source": [
    "#Defining all constants\n",
    "\n",
    "#Percentshare array has all the departments share of percentage hours to be allocated\n",
    "percentshare= np.array([48.4,4.2,25.3,7.4,5.3,9.5])\n",
    "\n",
    "#target carries the actual number of hours to be allocated to each department\n",
    "target=213.5*percentshare/100\n",
    "\n",
    "\n",
    "#hours_matrix is a matrix with acutual number of hours in the week (rows- Rooms, Columns-days of week)\n",
    "hours_matrix=np.matrix([[9,9,9 ,9 ,9], [9, 9, 9, 9, 8],[9, 9, 9, 9, 8],[9, 9, 9 ,9 ,8],[ 7.5, 7.5, 7.5, 7.5, 6.5]])\n",
    "\n",
    "#dept- total departments, rooms-total rooms, days-total days of the week\n",
    "dept=6\n",
    "rooms=5\n",
    "days=5"
   ]
  },
  {
   "cell_type": "code",
   "execution_count": 3,
   "metadata": {},
   "outputs": [
    {
     "name": "stdout",
     "output_type": "stream",
     "text": [
      "Academic license - for non-commercial use only\n"
     ]
    }
   ],
   "source": [
    "#Defining the model\n",
    "assignment1a=Model()\n",
    "\n",
    "#x is three dimensional array with (dept, rooms and days as dimensions in order)\n",
    "x = assignment1a.addVars(dept,rooms,days,vtype=GRB.BINARY)\n",
    "s=assignment1a.addVars(dept)"
   ]
  },
  {
   "cell_type": "code",
   "execution_count": 4,
   "metadata": {
    "scrolled": true
   },
   "outputs": [],
   "source": [
    "#underallocation_con is a constraint on underallocation calculation in percent of underallocation of hours\n",
    "#penalty_con penalises only the rooms which are underallocated\n",
    "#consistency_con makes sure each room at a particular time is allocated to not more than one dept\n",
    "underallocation_con={}\n",
    "penalty_con={}\n",
    "consistency_con={}\n",
    "for i in range(dept):\n",
    "    available=0\n",
    "    for j in range(rooms):\n",
    "        \n",
    "        for k in range(days):\n",
    "            available=available+x[i,j,k]*hours_matrix[j,k]\n",
    "    underallocation_con[i]=assignment1a.addConstr(s[i]>=(1-available/target[i]))\n",
    "    penalty_con[i]=assignment1a.addConstr(s[i]>=0)\n",
    "\n",
    "#fullallocation_con=assignment1a.addConstr(x.sum()==25)\n",
    "for j in range(rooms):\n",
    "    for k in range(days):\n",
    "        consistency_con[j,k]=assignment1a.addConstr(sum(x[i,j,k] for i in range(dept))==1)\n",
    "\n",
    "\n"
   ]
  },
  {
   "cell_type": "code",
   "execution_count": 5,
   "metadata": {},
   "outputs": [],
   "source": [
    "#objective function on S(our underalloction variable)\n",
    "assignment1a.setObjective(sum((s[i]) for i in range(dept)),GRB.MINIMIZE)\n"
   ]
  },
  {
   "cell_type": "code",
   "execution_count": 6,
   "metadata": {},
   "outputs": [],
   "source": [
    "assignment1a.update()"
   ]
  },
  {
   "cell_type": "code",
   "execution_count": 7,
   "metadata": {
    "scrolled": true
   },
   "outputs": [
    {
     "name": "stdout",
     "output_type": "stream",
     "text": [
      "Optimize a model with 37 rows, 156 columns and 312 nonzeros\n",
      "Variable types: 6 continuous, 150 integer (150 binary)\n",
      "Coefficient statistics:\n",
      "  Matrix range     [6e-02, 1e+00]\n",
      "  Objective range  [1e+00, 1e+00]\n",
      "  Bounds range     [1e+00, 1e+00]\n",
      "  RHS range        [1e+00, 1e+00]\n",
      "Found heuristic solution: objective 0.9760935\n",
      "Presolve removed 6 rows and 0 columns\n",
      "Presolve time: 0.00s\n",
      "Presolved: 31 rows, 156 columns, 306 nonzeros\n",
      "Variable types: 6 continuous, 150 integer (150 binary)\n",
      "\n",
      "Root relaxation: objective 2.066116e-03, 56 iterations, 0.00 seconds\n",
      "\n",
      "    Nodes    |    Current Node    |     Objective Bounds      |     Work\n",
      " Expl Unexpl |  Obj  Depth IntInf | Incumbent    BestBd   Gap | It/Node Time\n",
      "\n",
      "     0     0    0.00207    0    8    0.97609    0.00207   100%     -    0s\n",
      "H    0     0                       0.4228716    0.00207   100%     -    0s\n",
      "H    0     0                       0.4211107    0.00207   100%     -    0s\n",
      "     0     0    0.02836    0   10    0.42111    0.02836  93.3%     -    0s\n",
      "H    0     0                       0.3265359    0.02836  91.3%     -    0s\n",
      "H    0     0                       0.0704192    0.02836  59.7%     -    0s\n",
      "     0     0    0.02836    0   14    0.07042    0.02836  59.7%     -    0s\n",
      "     0     0    0.02836    0    5    0.07042    0.02836  59.7%     -    0s\n",
      "H    0     0                       0.0615833    0.02836  53.9%     -    0s\n",
      "     0     2    0.02836    0    5    0.06158    0.02836  53.9%     -    0s\n",
      "H   54    17                       0.0607418    0.04982  18.0%   4.4    0s\n",
      "H   80    20                       0.0567447    0.04982  12.2%   3.7    0s\n",
      "H   89    15                       0.0519060    0.04982  4.01%   3.6    0s\n",
      "\n",
      "Cutting planes:\n",
      "  Cover: 2\n",
      "  MIR: 3\n",
      "\n",
      "Explored 116 nodes (536 simplex iterations) in 0.20 seconds\n",
      "Thread count was 4 (of 4 available processors)\n",
      "\n",
      "Solution count 9: 0.051906 0.0567447 0.0607418 ... 0.976094\n",
      "\n",
      "Optimal solution found (tolerance 1.00e-04)\n",
      "Best objective 5.190597648317e-02, best bound 5.190597648317e-02, gap 0.0000%\n"
     ]
    }
   ],
   "source": [
    "assignment1a.optimize()"
   ]
  },
  {
   "cell_type": "code",
   "execution_count": 564,
   "metadata": {},
   "outputs": [
    {
     "name": "stdout",
     "output_type": "stream",
     "text": [
      "Optimal underallocation of hours in percent: 0.05190597648316659\n",
      "[-0.0, 1.0, 1.0, -0.0, 1.0, 1.0, 1.0, -0.0, 1.0, -0.0, 1.0, -0.0, -0.0, 1.0, 1.0, -0.0, 1.0, -0.0, 1.0, -0.0, -0.0, -0.0, -0.0, -0.0, -0.0, -0.0, -0.0, -0.0, -0.0, -0.0, -0.0, -0.0, -0.0, -0.0, -0.0, -0.0, -0.0, 1.0, -0.0, -0.0, -0.0, -0.0, -0.0, -0.0, -0.0, -0.0, -0.0, -0.0, -0.0, -0.0, 1.0, -0.0, -0.0, 1.0, -0.0, -0.0, -0.0, 1.0, -0.0, -0.0, -0.0, 1.0, -0.0, -0.0, -0.0, 1.0, -0.0, 1.0, -0.0, -0.0, -0.0, -0.0, -0.0, -0.0, -0.0, -0.0, -0.0, -0.0, -0.0, -0.0, -0.0, -0.0, -0.0, -0.0, 1.0, -0.0, -0.0, -0.0, -0.0, -0.0, -0.0, -0.0, -0.0, -0.0, 1.0, -0.0, -0.0, -0.0, -0.0, -0.0, -0.0, -0.0, -0.0, -0.0, -0.0, -0.0, -0.0, -0.0, -0.0, -0.0, -0.0, -0.0, -0.0, -0.0, -0.0, -0.0, -0.0, -0.0, -0.0, -0.0, -0.0, -0.0, 1.0, -0.0, 1.0, -0.0, -0.0, -0.0, -0.0, -0.0, -0.0, -0.0, -0.0, -0.0, -0.0, -0.0, -0.0, -0.0, -0.0, -0.0, -0.0, -0.0, -0.0, -0.0, -0.0, 1.0, 1.0, -0.0, 1.0, -0.0]\n"
     ]
    }
   ],
   "source": [
    "#objective value of our model.. (only 0.05 % of hours are unallocated out of 213.5 hours)\n",
    "opt_val = assignment1a.objval\n",
    "print(\"Optimal underallocation of hours in percent:\",opt_val)\n",
    "\n",
    "x_opt = [x[i,j,k].x for i in range(dept) for j in range(rooms) for k in range(days)]\n",
    "print(x_opt)"
   ]
  },
  {
   "cell_type": "code",
   "execution_count": 565,
   "metadata": {},
   "outputs": [
    {
     "name": "stdout",
     "output_type": "stream",
     "text": [
      "The hours & % underallocation in Dept 0 is 98.0 hours and 0.05161902181275907 % underallocation\n",
      "The hours & % underallocation in Dept 1 is 9.0 hours and 0.0 % underallocation\n",
      "The hours & % underallocation in Dept 2 is 54.0 hours and 0.00028695467040752015 % underallocation\n",
      "The hours & % underallocation in Dept 3 is 16.0 hours and 0.0 % underallocation\n",
      "The hours & % underallocation in Dept 4 is 14.0 hours and 0.0 % underallocation\n",
      "The hours & % underallocation in Dept 5 is 22.5 hours and 0.0 % underallocation\n"
     ]
    }
   ],
   "source": [
    "for i in range(dept):\n",
    "    sum1=0\n",
    "    for j in range(rooms):\n",
    "        for k in range(days):\n",
    "            sum1=sum1+(x[i,j,k].x)*hours_matrix[j,k]\n",
    "    print(\"The hours & % underallocation in Dept\",i,\"is\", sum1,\"hours and\", s[i].x,\"% underallocation\")"
   ]
  },
  {
   "cell_type": "code",
   "execution_count": 566,
   "metadata": {},
   "outputs": [
    {
     "data": {
      "text/plain": [
       "<gurobi.Constr *Awaiting Model Update*>"
      ]
     },
     "execution_count": 566,
     "metadata": {},
     "output_type": "execute_result"
    }
   ],
   "source": [
    "#Defining the shifting constraint for (b) part\n",
    "shifting=assignment1a.addVars(dept,days-1)  \n",
    "for i in range(dept):\n",
    "    for k in range(days-1):\n",
    "        assignment1a.addConstr(shifting[i,k]<=x[i,0,k+1]-x[i,0,k])\n",
    "        assignment1a.addConstr(shifting[i,k]>=x[i,0,k+1]-x[i,0,k])\n",
    "\n",
    "assignment1a.addConstr(sum(shifting[i,k] for i in range(dept) for k in range(days-1))<=4)\n",
    "\n"
   ]
  },
  {
   "cell_type": "code",
   "execution_count": 567,
   "metadata": {},
   "outputs": [
    {
     "data": {
      "text/plain": [
       "<gurobi.Model MIP instance Unnamed: 86 constrs, 180 vars, Parameter changes: LogFile=gurobi.log, CSIdleTimeout=1800>"
      ]
     },
     "execution_count": 567,
     "metadata": {},
     "output_type": "execute_result"
    }
   ],
   "source": [
    "assignment1a.update()\n",
    "assignment1a\n"
   ]
  },
  {
   "cell_type": "code",
   "execution_count": 568,
   "metadata": {},
   "outputs": [
    {
     "name": "stdout",
     "output_type": "stream",
     "text": [
      "Optimize a model with 86 rows, 180 columns and 480 nonzeros\n",
      "Variable types: 30 continuous, 150 integer (150 binary)\n",
      "Coefficient statistics:\n",
      "  Matrix range     [6e-02, 1e+00]\n",
      "  Objective range  [1e+00, 1e+00]\n",
      "  Bounds range     [1e+00, 1e+00]\n",
      "  RHS range        [1e+00, 4e+00]\n",
      "\n",
      "MIP start did not produce a new incumbent solution\n",
      "MIP start violates constraint R41 by 1.000000000\n",
      "\n",
      "Found heuristic solution: objective 1.3093312\n",
      "Presolve removed 59 rows and 48 columns\n",
      "Presolve time: 0.01s\n",
      "Presolved: 27 rows, 132 columns, 258 nonzeros\n",
      "Variable types: 6 continuous, 126 integer (126 binary)\n",
      "\n",
      "Root relaxation: objective 2.066116e-03, 45 iterations, 0.00 seconds\n",
      "\n",
      "    Nodes    |    Current Node    |     Objective Bounds      |     Work\n",
      " Expl Unexpl |  Obj  Depth IntInf | Incumbent    BestBd   Gap | It/Node Time\n",
      "\n",
      "     0     0    0.00207    0   10    1.30933    0.00207   100%     -    0s\n",
      "H    0     0                       0.5256595    0.00207   100%     -    0s\n",
      "     0     0    0.02836    0   13    0.52566    0.02836  94.6%     -    0s\n",
      "H    0     0                       0.3618890    0.02836  92.2%     -    0s\n",
      "H    0     0                       0.3225850    0.02836  91.2%     -    0s\n",
      "     0     0    0.04131    0   16    0.32259    0.04131  87.2%     -    0s\n",
      "H    0     0                       0.3072110    0.04131  86.6%     -    0s\n",
      "H    0     0                       0.1683620    0.04131  75.5%     -    0s\n",
      "     0     0    0.05177    0    4    0.16836    0.05177  69.3%     -    0s\n",
      "     0     0    0.05177    0    6    0.16836    0.05177  69.3%     -    0s\n",
      "H    0     0                       0.1387152    0.05177  62.7%     -    0s\n",
      "     0     0    0.05177    0    8    0.13872    0.05177  62.7%     -    0s\n",
      "     0     0    0.05177    0    6    0.13872    0.05177  62.7%     -    0s\n",
      "     0     0    0.05177    0    6    0.13872    0.05177  62.7%     -    0s\n",
      "H    0     0                       0.0520560    0.05177  0.55%     -    0s\n",
      "H    0     0                       0.0519060    0.05177  0.26%     -    0s\n",
      "     0     0    0.05177    0    7    0.05191    0.05177  0.26%     -    0s\n",
      "     0     0    0.05177    0    4    0.05191    0.05177  0.26%     -    0s\n",
      "     0     0    0.05177    0    2    0.05191    0.05177  0.26%     -    0s\n",
      "\n",
      "Cutting planes:\n",
      "  Gomory: 1\n",
      "  Cover: 3\n",
      "\n",
      "Explored 1 nodes (170 simplex iterations) in 0.24 seconds\n",
      "Thread count was 4 (of 4 available processors)\n",
      "\n",
      "Solution count 9: 0.051906 0.052056 0.138715 ... 1.30933\n",
      "\n",
      "Optimal solution found (tolerance 1.00e-04)\n",
      "Best objective 5.190597648318e-02, best bound 5.190597648318e-02, gap 0.0000%\n"
     ]
    }
   ],
   "source": [
    "assignment1a.optimize()"
   ]
  },
  {
   "cell_type": "code",
   "execution_count": 569,
   "metadata": {},
   "outputs": [
    {
     "name": "stdout",
     "output_type": "stream",
     "text": [
      "Optimal underallocation of hours in percent: 0.05190597648318136\n",
      "[1.0, 1.0, 1.0, 1.0, 1.0, -0.0, -0.0, -0.0, 1.0, -0.0, -0.0, 1.0, 1.0, 1.0, 0.0, -0.0, -0.0, 1.0, -0.0, 1.0, -0.0, -0.0, -0.0, -0.0, -0.0, -0.0, 0.0, 0.0, 0.0, 0.0, 1.0, -0.0, -0.0, -0.0, -0.0, -0.0, -0.0, -0.0, -0.0, 0.0, -0.0, -0.0, -0.0, -0.0, -0.0, -0.0, -0.0, -0.0, -0.0, -0.0, -0.0, 0.0, 0.0, 0.0, 0.0, -0.0, 1.0, 1.0, -0.0, -0.0, 1.0, -0.0, -0.0, -0.0, -0.0, 1.0, 1.0, -0.0, 1.0, -0.0, -0.0, -0.0, -0.0, -0.0, -0.0, 0.0, 0.0, -0.0, 0.0, 0.0, -0.0, -0.0, -0.0, -0.0, 1.0, -0.0, -0.0, -0.0, -0.0, 1.0, -0.0, -0.0, -0.0, -0.0, -0.0, 0.0, -0.0, 0.0, 0.0, -0.0, 0.0, 0.0, -0.0, 0.0, 0.0, -0.0, -0.0, -0.0, -0.0, -0.0, -0.0, -0.0, -0.0, -0.0, 0.0, -0.0, -0.0, -0.0, -0.0, 0.0, 0.0, 1.0, 0.0, 0.0, 1.0, 0.0, 0.0, -0.0, 0.0, 0.0, -0.0, -0.0, -0.0, -0.0, -0.0, -0.0, -0.0, -0.0, -0.0, 0.0, -0.0, -0.0, -0.0, -0.0, -0.0, 1.0, -0.0, 1.0, 1.0, -0.0]\n"
     ]
    }
   ],
   "source": [
    "#objective value of our model.. (only 0.05 % of hours are unallocated out of 213.5 hours)\n",
    "opt_val = assignment1a.objval\n",
    "print(\"Optimal underallocation of hours in percent:\",opt_val)\n",
    "\n",
    "x_opt = [x[i,j,k].x for i in range(dept) for j in range(rooms) for k in range(days)]\n",
    "print(x_opt)"
   ]
  },
  {
   "cell_type": "code",
   "execution_count": 570,
   "metadata": {},
   "outputs": [
    {
     "name": "stdout",
     "output_type": "stream",
     "text": [
      "The hours & % underallocation in Dept 0 is 98.0 hours and 0.05161902181276247 % underallocation\n",
      "The hours & % underallocation in Dept 1 is 9.0 hours and 0.0 % underallocation\n",
      "The hours & % underallocation in Dept 2 is 54.0 hours and 0.000286954670418893 % underallocation\n",
      "The hours & % underallocation in Dept 3 is 16.0 hours and 0.0 % underallocation\n",
      "The hours & % underallocation in Dept 4 is 14.0 hours and 0.0 % underallocation\n",
      "The hours & % underallocation in Dept 5 is 22.5 hours and 0.0 % underallocation\n"
     ]
    }
   ],
   "source": [
    "for i in range(dept):\n",
    "    sum1=0\n",
    "    for j in range(rooms):\n",
    "        for k in range(days):\n",
    "            sum1=sum1+(x[i,j,k].x)*hours_matrix[j,k]\n",
    "    print(\"The hours & % underallocation in Dept\",i,\"is\", sum1,\"hours and\", s[i].x,\"% underallocation\")"
   ]
  },
  {
   "cell_type": "code",
   "execution_count": null,
   "metadata": {},
   "outputs": [],
   "source": []
  }
 ],
 "metadata": {
  "kernelspec": {
   "display_name": "Python 3",
   "language": "python",
   "name": "python3"
  },
  "language_info": {
   "codemirror_mode": {
    "name": "ipython",
    "version": 3
   },
   "file_extension": ".py",
   "mimetype": "text/x-python",
   "name": "python",
   "nbconvert_exporter": "python",
   "pygments_lexer": "ipython3",
   "version": "3.7.1"
  }
 },
 "nbformat": 4,
 "nbformat_minor": 2
}
