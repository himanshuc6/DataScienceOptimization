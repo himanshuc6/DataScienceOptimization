{
 "cells": [
  {
   "cell_type": "markdown",
   "metadata": {},
   "source": [
    "## MGMTMSA 403 Homework 3\n",
    "### Submitted by- Himanshu Chandra\n"
   ]
  },
  {
   "cell_type": "code",
   "execution_count": 1,
   "metadata": {},
   "outputs": [
    {
     "ename": "ModuleNotFoundError",
     "evalue": "No module named 'gurobipy'",
     "output_type": "error",
     "traceback": [
      "\u001b[0;31m---------------------------------------------------------------------------\u001b[0m",
      "\u001b[0;31mModuleNotFoundError\u001b[0m                       Traceback (most recent call last)",
      "\u001b[0;32m<ipython-input-1-e481b8255435>\u001b[0m in \u001b[0;36m<module>\u001b[0;34m\u001b[0m\n\u001b[1;32m      1\u001b[0m \u001b[0;31m# Import gurobi and numpy\u001b[0m\u001b[0;34m\u001b[0m\u001b[0;34m\u001b[0m\u001b[0;34m\u001b[0m\u001b[0m\n\u001b[0;32m----> 2\u001b[0;31m \u001b[0;32mfrom\u001b[0m \u001b[0mgurobipy\u001b[0m \u001b[0;32mimport\u001b[0m \u001b[0;34m*\u001b[0m\u001b[0;34m\u001b[0m\u001b[0;34m\u001b[0m\u001b[0m\n\u001b[0m\u001b[1;32m      3\u001b[0m \u001b[0;32mimport\u001b[0m \u001b[0mnumpy\u001b[0m \u001b[0;32mas\u001b[0m \u001b[0mnp\u001b[0m\u001b[0;34m\u001b[0m\u001b[0;34m\u001b[0m\u001b[0m\n\u001b[1;32m      4\u001b[0m \u001b[0;32mfrom\u001b[0m \u001b[0mnumpy\u001b[0m \u001b[0;32mimport\u001b[0m \u001b[0mgenfromtxt\u001b[0m\u001b[0;34m\u001b[0m\u001b[0;34m\u001b[0m\u001b[0m\n\u001b[1;32m      5\u001b[0m \u001b[0;32mimport\u001b[0m \u001b[0mcsv\u001b[0m\u001b[0;34m\u001b[0m\u001b[0;34m\u001b[0m\u001b[0m\n",
      "\u001b[0;31mModuleNotFoundError\u001b[0m: No module named 'gurobipy'"
     ]
    }
   ],
   "source": [
    "# Import gurobi and numpy\n",
    "from gurobipy import *\n",
    "import numpy as np\n",
    "from numpy import genfromtxt\n",
    "import csv\n",
    "import pandas as pd\n",
    "train=pd.read_csv(\"AirbnbTrain.csv\")\n",
    "test=pd.read_csv(\"AirbnbTest.csv\")\n",
    "## Get index of 4 tickers\n",
    "\n"
   ]
  },
  {
   "cell_type": "code",
   "execution_count": 2,
   "metadata": {},
   "outputs": [],
   "source": [
    "x_train=train.drop(['price'],axis=1)\n",
    "y_train=train['price']\n",
    "#x_train.insert(0, \"Intercept\", 1) \n",
    "n,m=x_train.shape\n",
    "\n",
    "x_test=test.drop(['price'],axis=1)\n",
    "#x_test.insert(0, \"Intercept\", 1)\n",
    "y_test=test['price']\n",
    "n_test,m_test=x_test.shape\n",
    "x_test=np.matrix(x_test)\n",
    "y_test=np.array(y_test)\n"
   ]
  },
  {
   "cell_type": "code",
   "execution_count": 3,
   "metadata": {},
   "outputs": [],
   "source": [
    "x_train=np.matrix(x_train)\n",
    "y_train=np.array(y_train)\n"
   ]
  },
  {
   "cell_type": "markdown",
   "metadata": {},
   "source": [
    "##  Model 1"
   ]
  },
  {
   "cell_type": "code",
   "execution_count": 4,
   "metadata": {},
   "outputs": [
    {
     "name": "stdout",
     "output_type": "stream",
     "text": [
      "Academic license - for non-commercial use only\n"
     ]
    }
   ],
   "source": [
    "model1=Model()\n",
    "b=model1.addVars(m)\n",
    "z=model1.addVars(n)\n",
    "const1={}\n",
    "const2={}"
   ]
  },
  {
   "cell_type": "code",
   "execution_count": 5,
   "metadata": {},
   "outputs": [],
   "source": [
    "for i in range(n):\n",
    "    const1[i]=model1.addConstr(z[i]>=y_train[i]-sum(b[j]*x_train[i,j] for j in range(m)))\n",
    "    const2[i]=model1.addConstr(z[i]>=(sum(b[j]*x_train[i,j] for j in range(m))-y_train[i])   )"
   ]
  },
  {
   "cell_type": "code",
   "execution_count": 7,
   "metadata": {},
   "outputs": [],
   "source": [
    "model1.setObjective(sum(z[i] for i in range(n))/n,GRB.MINIMIZE)"
   ]
  },
  {
   "cell_type": "code",
   "execution_count": 8,
   "metadata": {},
   "outputs": [
    {
     "data": {
      "text/plain": [
       "<gurobi.Model Continuous instance Unnamed: 3400 constrs, 1712 vars, Parameter changes: LogFile=gurobi.log, CSIdleTimeout=1800>"
      ]
     },
     "execution_count": 8,
     "metadata": {},
     "output_type": "execute_result"
    }
   ],
   "source": [
    "model1.update()\n",
    "model1"
   ]
  },
  {
   "cell_type": "code",
   "execution_count": 9,
   "metadata": {},
   "outputs": [
    {
     "name": "stdout",
     "output_type": "stream",
     "text": [
      "Optimize a model with 3400 rows, 1712 columns and 41368 nonzeros\n",
      "Coefficient statistics:\n",
      "  Matrix range     [5e-01, 5e+02]\n",
      "  Objective range  [6e-04, 6e-04]\n",
      "  Bounds range     [0e+00, 0e+00]\n",
      "  RHS range        [1e+01, 2e+03]\n",
      "\n",
      "Concurrent LP optimizer: dual simplex and barrier\n",
      "Showing barrier log only...\n",
      "\n",
      "Presolve time: 0.06s\n",
      "Presolved: 3400 rows, 1712 columns, 41368 nonzeros\n",
      "\n",
      "Ordering time: 0.00s\n",
      "\n",
      "Barrier statistics:\n",
      " Dense cols : 12\n",
      " AA' NZ     : 3.967e+04\n",
      " Factor NZ  : 4.315e+04 (roughly 2 MBytes of memory)\n",
      " Factor Ops : 5.491e+05 (less than 1 second per iteration)\n",
      " Threads    : 1\n",
      "\n",
      "                  Objective                Residual\n",
      "Iter       Primal          Dual         Primal    Dual     Compl     Time\n",
      "   0   2.12302506e+03  0.00000000e+00  1.36e+03 0.00e+00  2.56e+01     0s\n",
      "   1   2.05671988e+03 -1.60051438e+00  0.00e+00 5.43e-03  1.75e+00     0s\n",
      "   2   1.14614521e+03  2.86828649e+00  0.00e+00 7.00e-05  2.34e-01     0s\n",
      "   3   1.13304580e+02  6.92004294e+00  0.00e+00 3.86e-06  2.09e-02     0s\n",
      "   4   5.07646519e+01  1.30370201e+01  0.00e+00 2.25e-06  7.40e-03     0s\n",
      "   5   4.06600057e+01  2.77488487e+01  0.00e+00 3.06e-07  2.53e-03     0s\n",
      "   6   3.72726587e+01  3.51010908e+01  0.00e+00 1.36e-08  4.25e-04     0s\n",
      "   7   3.67565466e+01  3.60320263e+01  0.00e+00 3.37e-09  1.42e-04     0s\n",
      "   8   3.65411603e+01  3.63420102e+01  0.00e+00 4.86e-10  3.90e-05     0s\n",
      "   9   3.64651450e+01  3.64228368e+01  0.00e+00 4.66e-11  8.28e-06     0s\n",
      "  10   3.64484776e+01  3.64418849e+01  0.00e+00 0.00e+00  1.29e-06     0s\n",
      "  11   3.64450730e+01  3.64444878e+01  0.00e+00 0.00e+00  1.14e-07     0s\n",
      "  12   3.64446386e+01  3.64446250e+01  0.00e+00 2.06e-13  2.66e-09     0s\n",
      "  13   3.64446304e+01  3.64446304e+01  0.00e+00 1.25e-13  2.66e-12     0s\n",
      "\n",
      "Barrier solved model in 13 iterations and 0.46 seconds\n",
      "Optimal objective 3.64446304e+01\n",
      "\n",
      "Crossover log...\n",
      "\n",
      "       0 DPushes remaining with DInf 2.0111950e-16                 1s\n",
      "\n",
      "       0 PPushes remaining with PInf 0.0000000e+00                 1s\n",
      "\n",
      "  Push phase complete: Pinf 0.0000000e+00, Dinf 2.0111950e-16      1s\n",
      "\n",
      "Iteration    Objective       Primal Inf.    Dual Inf.      Time\n",
      "      27    3.6444630e+01   0.000000e+00   0.000000e+00      1s\n",
      "\n",
      "Solved with barrier\n",
      "Solved in 27 iterations and 0.60 seconds\n",
      "Optimal objective  3.644463042e+01\n"
     ]
    }
   ],
   "source": [
    "model1.optimize()"
   ]
  },
  {
   "cell_type": "code",
   "execution_count": 15,
   "metadata": {},
   "outputs": [
    {
     "name": "stdout",
     "output_type": "stream",
     "text": [
      "The prediction error test set in dollars per night is  35.62719512642501\n"
     ]
    }
   ],
   "source": [
    "beta=[]\n",
    "for i in range(m):\n",
    "    beta.append(b[i].x)\n",
    "beta=np.array(beta)\n",
    "error_sum=0\n",
    "for i in range(n_test):\n",
    "    error_sum=error_sum+abs(y_test[i]-np.sum(np.array(x_test[i,:])*beta))\n",
    "\n",
    "print(\"The prediction error test set in dollars per night is \", error_sum/n_test)"
   ]
  },
  {
   "cell_type": "code",
   "execution_count": null,
   "metadata": {},
   "outputs": [],
   "source": []
  },
  {
   "cell_type": "markdown",
   "metadata": {},
   "source": [
    "## MODEL 2"
   ]
  },
  {
   "cell_type": "code",
   "execution_count": 12,
   "metadata": {},
   "outputs": [],
   "source": [
    "model2=Model()\n",
    "b2=model2.addVars(m)\n",
    "z2=model2.addVars(n)\n",
    "const12={}\n",
    "const22={}\n",
    "const32={}\n",
    "const42={}\n",
    "x = model2.addVars(m, vtype = GRB.BINARY)\n",
    "for i in range(n):\n",
    "    const12[i]=model2.addConstr(z2[i]>=y_train[i]-sum(b2[j]*x_train[i,j] for j in range(m)))\n",
    "    const22[i]=model2.addConstr(z2[i]>=(sum(b2[j]*x_train[i,j] for j in range(m))-y_train[i]))\n",
    "for i in range(m):\n",
    "    const32[i]=model2.addConstr(1000000*x[i]>=b2[i] )\n",
    "    const42[i]=model2.addConstr(-1000000*x[i]<=b2[i])\n",
    "model2.addConstr(sum(x[i] for i in range(m))<=3)\n",
    "    \n",
    "model2.setObjective(sum(z2[i] for i in range(n))/n,GRB.MINIMIZE)    "
   ]
  },
  {
   "cell_type": "code",
   "execution_count": 13,
   "metadata": {},
   "outputs": [
    {
     "data": {
      "text/plain": [
       "<gurobi.Model MIP instance Unnamed: 3425 constrs, 1724 vars, Parameter changes: LogFile=gurobi.log, CSIdleTimeout=1800>"
      ]
     },
     "execution_count": 13,
     "metadata": {},
     "output_type": "execute_result"
    }
   ],
   "source": [
    "model2.update()\n",
    "model2"
   ]
  },
  {
   "cell_type": "code",
   "execution_count": 14,
   "metadata": {},
   "outputs": [
    {
     "name": "stdout",
     "output_type": "stream",
     "text": [
      "Optimize a model with 3425 rows, 1724 columns and 41428 nonzeros\n",
      "Variable types: 1712 continuous, 12 integer (12 binary)\n",
      "Coefficient statistics:\n",
      "  Matrix range     [5e-01, 1e+06]\n",
      "  Objective range  [6e-04, 6e-04]\n",
      "  Bounds range     [1e+00, 1e+00]\n",
      "  RHS range        [3e+00, 2e+03]\n",
      "Found heuristic solution: objective 144.9682353\n",
      "Presolve removed 838 rows and 413 columns\n",
      "Presolve time: 0.07s\n",
      "Presolved: 2587 rows, 1311 columns, 31294 nonzeros\n",
      "Variable types: 1299 continuous, 12 integer (12 binary)\n",
      "\n",
      "Root relaxation: objective 3.644463e+01, 1393 iterations, 0.24 seconds\n",
      "\n",
      "    Nodes    |    Current Node    |     Objective Bounds      |     Work\n",
      " Expl Unexpl |  Obj  Depth IntInf | Incumbent    BestBd   Gap | It/Node Time\n",
      "\n",
      "     0     0   36.44463    0    3  144.96824   36.44463  74.9%     -    0s\n",
      "H    0     0                      61.6243748   36.44463  40.9%     -    0s\n",
      "     0     0   36.44463    0    7   61.62437   36.44463  40.9%     -    0s\n",
      "     0     0   36.44463    0    8   61.62437   36.44463  40.9%     -    0s\n",
      "     0     0   36.44463    0    7   61.62437   36.44463  40.9%     -    0s\n",
      "     0     0   36.44463    0    7   61.62437   36.44463  40.9%     -    0s\n",
      "     0     0   36.44463    0    8   61.62437   36.44463  40.9%     -    1s\n",
      "     0     0   36.44463    0    8   61.62437   36.44463  40.9%     -    1s\n",
      "     0     0   36.44463    0    9   61.62437   36.44463  40.9%     -    1s\n",
      "     0     0   36.44496    0   10   61.62437   36.44496  40.9%     -    1s\n",
      "     0     0   36.45163    0    9   61.62437   36.45163  40.8%     -    1s\n",
      "     0     0   36.45231    0   10   61.62437   36.45231  40.8%     -    1s\n",
      "     0     0   36.45897    0    9   61.62437   36.45897  40.8%     -    1s\n",
      "     0     0   36.46237    0    9   61.62437   36.46237  40.8%     -    1s\n",
      "     0     0   36.46474    0    7   61.62437   36.46474  40.8%     -    1s\n",
      "     0     0   36.46515    0   10   61.62437   36.46515  40.8%     -    1s\n",
      "     0     0   36.47035    0   10   61.62437   36.47035  40.8%     -    2s\n",
      "     0     0   36.47468    0   10   61.62437   36.47468  40.8%     -    2s\n",
      "     0     0   36.47817    0    9   61.62437   36.47817  40.8%     -    2s\n",
      "     0     0   36.47882    0   10   61.62437   36.47882  40.8%     -    2s\n",
      "     0     0   36.47990    0    9   61.62437   36.47990  40.8%     -    2s\n",
      "     0     0   36.48050    0    9   61.62437   36.48050  40.8%     -    2s\n",
      "     0     0   36.48234    0   11   61.62437   36.48234  40.8%     -    2s\n",
      "     0     0   36.48303    0   11   61.62437   36.48303  40.8%     -    2s\n",
      "     0     0   36.48433    0   11   61.62437   36.48433  40.8%     -    3s\n",
      "     0     0   36.48446    0   11   61.62437   36.48446  40.8%     -    3s\n",
      "     0     0   36.48493    0   10   61.62437   36.48493  40.8%     -    3s\n",
      "     0     0   36.48511    0   10   61.62437   36.48511  40.8%     -    3s\n",
      "     0     0   36.48527    0   10   61.62437   36.48527  40.8%     -    3s\n",
      "     0     0   36.48580    0   10   61.62437   36.48580  40.8%     -    3s\n",
      "     0     0   36.48613    0   11   61.62437   36.48613  40.8%     -    3s\n",
      "     0     0   36.48616    0   11   61.62437   36.48616  40.8%     -    3s\n",
      "     0     0   36.48618    0   11   61.62437   36.48618  40.8%     -    3s\n",
      "     0     0   36.48620    0   11   61.62437   36.48620  40.8%     -    3s\n",
      "     0     0   36.48620    0   11   61.62437   36.48620  40.8%     -    4s\n",
      "     0     2   36.48620    0   11   61.62437   36.48620  40.8%     -    4s\n",
      "*    8     8               3      39.6099845   36.53461  7.76%   105    4s\n",
      "*    9     6               4      39.5804163   36.53461  7.70%   111    4s\n",
      "*   20     5               5      38.3388235   37.23183  2.89%   127    4s\n",
      "\n",
      "Cutting planes:\n",
      "  MIR: 10\n",
      "  Flow cover: 69\n",
      "\n",
      "Explored 51 nodes (5135 simplex iterations) in 4.72 seconds\n",
      "Thread count was 4 (of 4 available processors)\n",
      "\n",
      "Solution count 5: 38.3388 39.5804 39.61 ... 144.968\n",
      "\n",
      "Optimal solution found (tolerance 1.00e-04)\n",
      "Best objective 3.833882352941e+01, best bound 3.833882352941e+01, gap 0.0000%\n"
     ]
    }
   ],
   "source": [
    "model2.update()\n",
    "model2.optimize()"
   ]
  },
  {
   "cell_type": "code",
   "execution_count": 17,
   "metadata": {},
   "outputs": [
    {
     "data": {
      "text/plain": [
       "array([ 0.,  0., 52., 14.,  0., 32.,  0.,  0.,  0.,  0.,  0.,  0.])"
      ]
     },
     "execution_count": 17,
     "metadata": {},
     "output_type": "execute_result"
    }
   ],
   "source": [
    "beta"
   ]
  },
  {
   "cell_type": "code",
   "execution_count": 46,
   "metadata": {},
   "outputs": [
    {
     "name": "stdout",
     "output_type": "stream",
     "text": [
      "The prediction error test set in dollars per night is  37.73676680972818\n"
     ]
    }
   ],
   "source": [
    "beta=[]\n",
    "for i in range(m):\n",
    "    beta.append(b2[i].x)\n",
    "beta=np.array(beta)\n",
    "error_sum=0\n",
    "for i in range(n_test):\n",
    "    error_sum=error_sum+abs(y_test[i]-np.sum(np.array(x_test[i,:])*beta))\n",
    "\n",
    "print(\"The prediction error test set in dollars per night is \", error_sum/n_test)"
   ]
  },
  {
   "cell_type": "code",
   "execution_count": 54,
   "metadata": {},
   "outputs": [
    {
     "name": "stdout",
     "output_type": "stream",
     "text": [
      "Entire home coefficient is 52.0\n",
      "accommodates coefficient is 14.0\n",
      "bedrooms coefficient is 32.0\n"
     ]
    }
   ],
   "source": [
    "betap=np.append(beta,[0])\n",
    "j=0\n",
    "for i in test.columns[betap>0]:\n",
    "    print(i, \"coefficient is\", beta[beta>0][j])\n",
    "    j=j+1"
   ]
  },
  {
   "cell_type": "markdown",
   "metadata": {},
   "source": [
    "## Model3"
   ]
  },
  {
   "cell_type": "code",
   "execution_count": 59,
   "metadata": {},
   "outputs": [],
   "source": [
    "model3=Model()\n",
    "b3=model3.addVars(m)\n",
    "z3=model3.addVars(n)\n",
    "const13={}\n",
    "const23={}\n",
    "const33={}\n",
    "const43={}\n",
    "x = model3.addVars(m, vtype = GRB.BINARY)\n",
    "for i in range(n):\n",
    "    const13[i]=model3.addConstr(z3[i]>=y_train[i]-sum(b3[j]*x_train[i,j] for j in range(m)))\n",
    "    const23[i]=model3.addConstr(z3[i]>=(sum(b3[j]*x_train[i,j] for j in range(m))-y_train[i]))\n",
    "for i in (0,1,2,3,4,5,6,7,8,9,10,11):\n",
    "    const33[i]=model3.addConstr(10000*x[i]>=b3[i] )\n",
    "    const43[i]=model3.addConstr(-10000*x[i]<=b3[i])\n",
    "model3.addConstr(sum(x[i] for i in range(m))<=3)\n",
    "model3.addConstr(x[6]==1)\n",
    "    \n",
    "model3.setObjective(sum(z3[i] for i in range(n))/n,GRB.MINIMIZE)    "
   ]
  },
  {
   "cell_type": "code",
   "execution_count": 60,
   "metadata": {},
   "outputs": [
    {
     "name": "stdout",
     "output_type": "stream",
     "text": [
      "Optimize a model with 3426 rows, 1724 columns and 41429 nonzeros\n",
      "Variable types: 1712 continuous, 12 integer (12 binary)\n",
      "Coefficient statistics:\n",
      "  Matrix range     [5e-01, 1e+04]\n",
      "  Objective range  [6e-04, 6e-04]\n",
      "  Bounds range     [1e+00, 1e+00]\n",
      "  RHS range        [1e+00, 2e+03]\n",
      "Found heuristic solution: objective 144.9682353\n",
      "Presolve removed 840 rows and 414 columns\n",
      "Presolve time: 0.06s\n",
      "Presolved: 2586 rows, 1310 columns, 31291 nonzeros\n",
      "Variable types: 1299 continuous, 11 integer (11 binary)\n",
      "\n",
      "Root relaxation: objective 3.644463e+01, 1430 iterations, 0.24 seconds\n",
      "\n",
      "    Nodes    |    Current Node    |     Objective Bounds      |     Work\n",
      " Expl Unexpl |  Obj  Depth IntInf | Incumbent    BestBd   Gap | It/Node Time\n",
      "\n",
      "     0     0   36.44463    0    8  144.96824   36.44463  74.9%     -    0s\n",
      "H    0     0                      48.6742700   36.44463  25.1%     -    0s\n",
      "     0     0   36.45085    0   10   48.67427   36.45085  25.1%     -    0s\n",
      "H    0     0                      43.9745441   36.45085  17.1%     -    0s\n",
      "     0     0   36.45085    0   10   43.97454   36.45085  17.1%     -    0s\n",
      "     0     0   36.45649    0   11   43.97454   36.45649  17.1%     -    1s\n",
      "     0     0   36.46360    0   11   43.97454   36.46360  17.1%     -    1s\n",
      "     0     0   36.47334    0   11   43.97454   36.47334  17.1%     -    1s\n",
      "     0     0   36.47527    0   10   43.97454   36.47527  17.1%     -    1s\n",
      "     0     0   36.50359    0   11   43.97454   36.50359  17.0%     -    1s\n",
      "     0     0   36.51566    0   10   43.97454   36.51566  17.0%     -    1s\n",
      "     0     0   36.52945    0    9   43.97454   36.52945  16.9%     -    1s\n",
      "     0     0   36.53491    0   10   43.97454   36.53491  16.9%     -    1s\n",
      "     0     0   36.54570    0    9   43.97454   36.54570  16.9%     -    1s\n",
      "     0     0   36.54908    0    9   43.97454   36.54908  16.9%     -    1s\n",
      "     0     0   36.55382    0   10   43.97454   36.55382  16.9%     -    2s\n",
      "     0     0   36.55458    0   10   43.97454   36.55458  16.9%     -    2s\n",
      "     0     0   36.55856    0    9   43.97454   36.55856  16.9%     -    2s\n",
      "     0     0   36.56178    0    9   43.97454   36.56178  16.9%     -    2s\n",
      "     0     0   36.57016    0    9   43.97454   36.57016  16.8%     -    2s\n",
      "     0     0   36.57185    0    9   43.97454   36.57185  16.8%     -    2s\n",
      "     0     0   36.57386    0    9   43.97454   36.57386  16.8%     -    2s\n",
      "     0     0   36.57469    0    9   43.97454   36.57469  16.8%     -    2s\n",
      "     0     0   36.57483    0    9   43.97454   36.57483  16.8%     -    2s\n",
      "     0     0   36.57499    0    9   43.97454   36.57499  16.8%     -    2s\n",
      "     0     0   36.57561    0    9   43.97454   36.57561  16.8%     -    2s\n",
      "     0     0   36.57568    0    9   43.97454   36.57568  16.8%     -    2s\n",
      "     0     0   36.57784    0    9   43.97454   36.57784  16.8%     -    3s\n",
      "     0     0   36.57837    0    9   43.97454   36.57837  16.8%     -    3s\n",
      "     0     0   36.57858    0    9   43.97454   36.57858  16.8%     -    3s\n",
      "     0     0   36.57859    0    9   43.97454   36.57859  16.8%     -    3s\n",
      "     0     0   36.57902    0    9   43.97454   36.57902  16.8%     -    3s\n",
      "     0     0   36.57919    0    9   43.97454   36.57919  16.8%     -    3s\n",
      "     0     0   36.57921    0    9   43.97454   36.57921  16.8%     -    3s\n",
      "     0     0   36.57925    0    9   43.97454   36.57925  16.8%     -    3s\n",
      "     0     0   36.57930    0    9   43.97454   36.57930  16.8%     -    3s\n",
      "     0     0   36.57931    0    9   43.97454   36.57931  16.8%     -    3s\n",
      "     0     0   36.57931    0    9   43.97454   36.57931  16.8%     -    3s\n",
      "     0     2   36.57931    0    9   43.97454   36.57931  16.8%     -    3s\n",
      "*    6     6               2      43.7733987   37.49122  14.4%   336    4s\n",
      "*    9     6               3      40.0801471   37.49899  6.44%   306    4s\n",
      "\n",
      "Cutting planes:\n",
      "  Gomory: 1\n",
      "  Implied bound: 1\n",
      "  MIR: 6\n",
      "  Flow cover: 46\n",
      "\n",
      "Explored 15 nodes (5290 simplex iterations) in 4.47 seconds\n",
      "Thread count was 4 (of 4 available processors)\n",
      "\n",
      "Solution count 5: 40.0801 43.7734 43.9745 ... 144.968\n",
      "\n",
      "Optimal solution found (tolerance 1.00e-04)\n",
      "Best objective 4.008014705882e+01, best bound 4.008014705882e+01, gap 0.0000%\n"
     ]
    }
   ],
   "source": [
    "model3.update()\n",
    "model3.optimize()"
   ]
  },
  {
   "cell_type": "code",
   "execution_count": 61,
   "metadata": {},
   "outputs": [
    {
     "name": "stdout",
     "output_type": "stream",
     "text": [
      "The prediction error test set in dollars per night is  38.59960658082976\n"
     ]
    }
   ],
   "source": [
    "beta=[]\n",
    "for i in range(m):\n",
    "    beta.append(b3[i].x)\n",
    "beta=np.array(beta)\n",
    "error_sum=0\n",
    "for i in range(n_test):\n",
    "    error_sum=error_sum+abs(y_test[i]-np.sum(np.array(x_test[i,:])*beta))\n",
    "print(\"The prediction error test set in dollars per night is \", error_sum/n_test)"
   ]
  },
  {
   "cell_type": "code",
   "execution_count": 62,
   "metadata": {},
   "outputs": [
    {
     "name": "stdout",
     "output_type": "stream",
     "text": [
      "Entire home coefficient is 67.875\n",
      "bedrooms coefficient is 47.375\n",
      "beds coefficient is 12.125\n"
     ]
    }
   ],
   "source": [
    "betap=np.append(beta,[0])\n",
    "j=0\n",
    "for i in test.columns[betap>0]:\n",
    "    print(i, \"coefficient is\", beta[beta>0][j])\n",
    "    j=j+1"
   ]
  },
  {
   "cell_type": "markdown",
   "metadata": {},
   "source": [
    "The accommodates column is replaced by the beds column in the model 3 because accommodates had the least important feature in model2 as it had least cofficient among the three. therefore, the optmization algorithm removes the least important feature with beds feature"
   ]
  }
 ],
 "metadata": {
  "kernelspec": {
   "display_name": "Python 3",
   "language": "python",
   "name": "python3"
  },
  "language_info": {
   "codemirror_mode": {
    "name": "ipython",
    "version": 3
   },
   "file_extension": ".py",
   "mimetype": "text/x-python",
   "name": "python",
   "nbconvert_exporter": "python",
   "pygments_lexer": "ipython3",
   "version": "3.7.4"
  }
 },
 "nbformat": 4,
 "nbformat_minor": 2
}
