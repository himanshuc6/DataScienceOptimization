{
 "cells": [
  {
   "cell_type": "markdown",
   "metadata": {},
   "source": [
    "## MGMTMSA 403 Homework 2: Portfolio Optimization\n"
   ]
  },
  {
   "cell_type": "markdown",
   "metadata": {},
   "source": [
    "## Pre-processing step: Estimate expected returns and covariance"
   ]
  },
  {
   "cell_type": "code",
   "execution_count": 1,
   "metadata": {},
   "outputs": [],
   "source": [
    "# Import gurobi and numpy\n",
    "from gurobipy import *\n",
    "import numpy as np\n",
    "from numpy import genfromtxt\n",
    "import csv\n",
    "import pandas as pd\n",
    "\n",
    "## Get index of 4 tickers\n",
    "tick4 = [\"MSFT\",\"GS\",\"PG\",\"SCHP\"];\n",
    "\n",
    "# Get variable names\n",
    "with open('Prices.csv') as csvFile:\n",
    "    reader = csv.reader(csvFile)\n",
    "    tickers = next(reader) ## stores the tickets of all 390 stocks\n",
    "\n",
    "tickind =[];\n",
    "for t in tick4:\n",
    "    tickind.append(tickers.index(t)) ## collect index that corresponds to each ticker\n",
    "    #print(tick4 , tickind )\n",
    "# Load data\n",
    "prices = genfromtxt('Prices.csv', delimiter=',',skip_header = 1)\n",
    "\n",
    "# get dimensions of data\n",
    "d = prices.shape[0]\n",
    "n = prices.shape[1]\n",
    "\n",
    "# calculate monthly returns of each stock\n",
    "returns = np.zeros((d-1,n))\n",
    "for stock in range(n):\n",
    "    for month in range(d-1):\n",
    "        returns[month,stock] = prices[month+1,stock]/prices[month,stock]-1\n",
    "        \n",
    "# Store average return (parameter r_i in portfolio optimization model)       \n",
    "avg_return = np.zeros(n)\n",
    "avg_return = np.mean(returns,axis=0)\n",
    "\n",
    "# Store covariance matrix (parameter C_ij in portfolio optimization model)\n",
    "C = np.zeros((n,n))\n",
    "C = np.cov(np.transpose(returns))\n"
   ]
  },
  {
   "cell_type": "markdown",
   "metadata": {},
   "source": [
    "##  Model 1"
   ]
  },
  {
   "cell_type": "code",
   "execution_count": 2,
   "metadata": {
    "scrolled": true
   },
   "outputs": [
    {
     "name": "stdout",
     "output_type": "stream",
     "text": [
      "Academic license - for non-commercial use only\n"
     ]
    }
   ],
   "source": [
    "#create the model and add decision variables\n",
    "mod = Model()\n",
    "d_Q1 = 4\n",
    "wi = mod.addVars(d_Q1)"
   ]
  },
  {
   "cell_type": "code",
   "execution_count": 3,
   "metadata": {},
   "outputs": [
    {
     "data": {
      "text/plain": [
       "<gurobi.Constr *Awaiting Model Update*>"
      ]
     },
     "execution_count": 3,
     "metadata": {},
     "output_type": "execute_result"
    }
   ],
   "source": [
    "#adding constraints on weight for the 4 tickers\n",
    "mod.addConstr(sum(wi[i] for i in range(len(tickind)))==1)\n",
    "for i in range(len(tickind)):\n",
    "    mod.addConstr(wi[i]>=0)\n",
    "mod.addConstr(sum(wi[i]*avg_return[tickind[i]] for i in range(len(tickind)))>=0.005)\n"
   ]
  },
  {
   "cell_type": "code",
   "execution_count": 4,
   "metadata": {},
   "outputs": [],
   "source": [
    "#set the objective function to minimize risk\n",
    "mod.setObjective(sum((wi[i]*wi[j]*C[tickind[i],tickind[j]]) \n",
    "                for j in range (len(tickind)) for i in range(len(tickind))), GRB.MINIMIZE)"
   ]
  },
  {
   "cell_type": "code",
   "execution_count": 5,
   "metadata": {},
   "outputs": [],
   "source": [
    "mod.update()"
   ]
  },
  {
   "cell_type": "code",
   "execution_count": 6,
   "metadata": {
    "scrolled": true
   },
   "outputs": [
    {
     "name": "stdout",
     "output_type": "stream",
     "text": [
      "Optimize a model with 6 rows, 4 columns and 12 nonzeros\n",
      "Model has 10 quadratic objective terms\n",
      "Coefficient statistics:\n",
      "  Matrix range     [2e-04, 1e+00]\n",
      "  Objective range  [0e+00, 0e+00]\n",
      "  QObjective range [5e-05, 7e-03]\n",
      "  Bounds range     [0e+00, 0e+00]\n",
      "  RHS range        [5e-03, 1e+00]\n",
      "Presolve removed 4 rows and 0 columns\n",
      "Presolve time: 0.02s\n",
      "Presolved: 2 rows, 4 columns, 8 nonzeros\n",
      "Presolved model has 10 quadratic objective terms\n",
      "Ordering time: 0.00s\n",
      "\n",
      "Barrier statistics:\n",
      " Free vars  : 3\n",
      " AA' NZ     : 1.000e+01\n",
      " Factor NZ  : 1.500e+01\n",
      " Factor Ops : 5.500e+01 (less than 1 second per iteration)\n",
      " Threads    : 1\n",
      "\n",
      "                  Objective                Residual\n",
      "Iter       Primal          Dual         Primal    Dual     Compl     Time\n",
      "   0   1.87864836e+05 -1.87864836e+05  3.50e+03 1.91e-07  1.00e+06     0s\n",
      "   1   5.03195868e+03 -5.16248579e+03  2.59e+02 1.41e-08  7.60e+04     0s\n",
      "   2   8.65509708e-03 -1.63980611e+02  5.37e-01 2.93e-11  1.91e+02     0s\n",
      "   3   9.86310203e-04 -1.11685777e+02  5.37e-07 2.91e-17  2.23e+01     0s\n",
      "   4   9.86278716e-04 -1.12363063e-01  8.01e-12 0.00e+00  2.27e-02     0s\n",
      "   5   9.62254421e-04 -7.39765491e-04  8.50e-14 2.17e-19  3.40e-04     0s\n",
      "   6   2.39090553e-04 -5.58090861e-04  2.78e-17 5.20e-18  1.59e-04     0s\n",
      "   7   1.89326156e-04  1.66699694e-04  1.39e-17 1.73e-18  4.53e-06     0s\n",
      "   8   1.77828223e-04  1.76221352e-04  1.11e-16 1.73e-18  3.21e-07     0s\n",
      "   9   1.77494541e-04  1.77442512e-04  1.36e-15 1.73e-18  1.04e-08     0s\n",
      "  10   1.77493265e-04  1.77493214e-04  1.65e-15 1.73e-18  1.03e-11     0s\n",
      "\n",
      "Barrier solved model in 10 iterations and 0.14 seconds\n",
      "Optimal objective 1.77493265e-04\n",
      "\n"
     ]
    }
   ],
   "source": [
    "mod.optimize()"
   ]
  },
  {
   "cell_type": "code",
   "execution_count": 7,
   "metadata": {},
   "outputs": [],
   "source": [
    "#for i in range(len(tickind)):\n",
    "#    print(wi[i].x)"
   ]
  },
  {
   "cell_type": "markdown",
   "metadata": {},
   "source": [
    "##  1a) \n",
    "For Model 1, write down the optimal risk (i.e. the optimal objective function value), solver\n",
    "time, and the weight on each of the four stocks.\n",
    "\n",
    "Answer: Optimal Risk: 1.77493265e-04  \n",
    "        Solver Time : 0.05\n",
    "        secs  \n",
    "        Weight of the 4 stocks:   \n",
    "        MSFT: 0.23711749137103624  \n",
    "        GS: 0.02585983533067896  \n",
    "        PG: 1.574971013220768e-09  \n",
    "        SCHP: 0.7370226717232814  \n",
    "        \n",
    "        "
   ]
  },
  {
   "cell_type": "markdown",
   "metadata": {},
   "source": [
    "##  Model 2"
   ]
  },
  {
   "cell_type": "code",
   "execution_count": 8,
   "metadata": {},
   "outputs": [],
   "source": [
    "#setting decision variables for model 2\n",
    "d_Q2 = 390\n",
    "\n",
    "wi2 = mod.addVars(d_Q2)"
   ]
  },
  {
   "cell_type": "code",
   "execution_count": 9,
   "metadata": {},
   "outputs": [
    {
     "data": {
      "text/plain": [
       "<gurobi.Constr *Awaiting Model Update*>"
      ]
     },
     "execution_count": 9,
     "metadata": {},
     "output_type": "execute_result"
    }
   ],
   "source": [
    "#setting constraints for model 2\n",
    "mod.addConstr(sum(wi2[i] for i in range(len(C)))==1)\n",
    "for i in range(len(C)):\n",
    "    mod.addConstr(wi2[i]>=0)\n",
    "mod.addConstr(sum(wi2[i]*avg_return[i] for i in range(len(C)))>=0.005)\n",
    "\n"
   ]
  },
  {
   "cell_type": "code",
   "execution_count": 10,
   "metadata": {
    "scrolled": true
   },
   "outputs": [],
   "source": [
    "#setting the objective function to minimize risk for all 390 tickers\n",
    "mod.setObjective(sum((wi2[i]*wi2[j]*C[i,j]) \n",
    "                     for j in range (len(C)) for i in range(len(C))), GRB.MINIMIZE)"
   ]
  },
  {
   "cell_type": "code",
   "execution_count": 11,
   "metadata": {
    "scrolled": true
   },
   "outputs": [
    {
     "name": "stdout",
     "output_type": "stream",
     "text": [
      "Optimize a model with 398 rows, 394 columns and 1182 nonzeros\n",
      "Model has 76245 quadratic objective terms\n",
      "Coefficient statistics:\n",
      "  Matrix range     [1e-06, 1e+00]\n",
      "  Objective range  [0e+00, 0e+00]\n",
      "  QObjective range [2e-07, 8e-02]\n",
      "  Bounds range     [0e+00, 0e+00]\n",
      "  RHS range        [5e-03, 1e+00]\n",
      "Presolve removed 394 rows and 0 columns\n",
      "Presolve time: 0.03s\n",
      "Presolved: 4 rows, 394 columns, 788 nonzeros\n",
      "Presolved model has 76245 quadratic objective terms\n",
      "Ordering time: 0.00s\n",
      "\n",
      "Barrier statistics:\n",
      " Free vars  : 59\n",
      " AA' NZ     : 1.831e+03\n",
      " Factor NZ  : 1.894e+03\n",
      " Factor Ops : 7.754e+04 (less than 1 second per iteration)\n",
      " Threads    : 6\n",
      "\n",
      "                  Objective                Residual\n",
      "Iter       Primal          Dual         Primal    Dual     Compl     Time\n",
      "   0   2.89821559e-13 -2.89821559e-13  3.90e+05 3.22e-07  1.00e+06     0s\n",
      "   1   2.49696916e+03 -4.51696832e+03  1.43e+04 1.18e-08  3.69e+04     0s\n",
      "   2   3.77059123e-03 -2.10177389e+03  1.35e+01 1.12e-11  4.00e+01     0s\n",
      "   3   9.45139170e-04 -9.02970350e+02  1.35e-05 1.04e-17  2.28e+00     0s\n",
      "   4   9.45135880e-04 -9.04326984e-01  3.46e-11 9.48e-13  2.29e-03     0s\n",
      "   5   9.42478685e-04 -2.23349522e-03  8.22e-14 2.69e-15  8.02e-06     0s\n",
      "   6   5.38011024e-04 -5.88571545e-04  8.88e-15 2.66e-16  2.84e-06     0s\n",
      "   7   1.93277057e-04 -2.26045682e-04  2.22e-16 1.73e-18  1.06e-06     0s\n",
      "   8   9.38034479e-05 -4.02736620e-05  4.44e-16 8.67e-19  3.39e-07     0s\n",
      "   9   5.89834251e-05  9.87704235e-06  5.55e-16 4.34e-19  1.24e-07     0s\n",
      "  10   4.24841095e-05  2.34800571e-05  4.44e-16 4.34e-19  4.80e-08     0s\n",
      "  11   3.47010541e-05  2.69540730e-05  1.78e-15 4.34e-19  1.96e-08     0s\n",
      "  12   3.02600743e-05  2.84573666e-05  5.33e-15 4.34e-19  4.55e-09     0s\n",
      "  13   2.89349184e-05  2.87618662e-05  5.11e-15 4.34e-19  4.37e-10     0s\n",
      "  14   2.87887482e-05  2.87844627e-05  1.19e-14 1.36e-19  1.08e-11     0s\n",
      "\n",
      "Barrier solved model in 14 iterations and 0.10 seconds\n",
      "Optimal objective 2.87887482e-05\n",
      "\n"
     ]
    }
   ],
   "source": [
    "mod.update()\n",
    "mod.optimize()"
   ]
  },
  {
   "cell_type": "markdown",
   "metadata": {},
   "source": [
    "## 1b) \n",
    "For Model 2, write down the optimal risk and solver time:  \n",
    "    Optimal Risk: 2.87887482e-05  \n",
    "    Solver Time: 0.10 seconds "
   ]
  },
  {
   "cell_type": "markdown",
   "metadata": {},
   "source": [
    "##  Model 3"
   ]
  },
  {
   "cell_type": "code",
   "execution_count": 12,
   "metadata": {},
   "outputs": [],
   "source": [
    "#Setting the decision Variables for Model 3\n",
    "d_Q3 = 390\n",
    "wi3 = mod.addVars(d_Q3)\n",
    "x = mod.addVars(d_Q3, vtype = GRB.BINARY)"
   ]
  },
  {
   "cell_type": "code",
   "execution_count": 13,
   "metadata": {},
   "outputs": [
    {
     "data": {
      "text/plain": [
       "<gurobi.Constr *Awaiting Model Update*>"
      ]
     },
     "execution_count": 13,
     "metadata": {},
     "output_type": "execute_result"
    }
   ],
   "source": [
    "#Defining the constraints for model 3\n",
    "mod.addConstr(sum(wi3[i] for i in range(len(C)))==1)\n",
    "for i in range(len(C)):\n",
    "    mod.addConstr(wi3[i]>=0)\n",
    "mod.addConstr(sum(wi3[i]*avg_return[i] for i in range(len(C)))>=0.005)\n",
    "for i in range(len(C)):\n",
    "    mod.addConstr(x[i] >= wi3[i])\n",
    "mod.addConstr(sum(x[i] for i in range(len(C))) <=4)"
   ]
  },
  {
   "cell_type": "code",
   "execution_count": 14,
   "metadata": {},
   "outputs": [],
   "source": [
    "#setting the objective function to minimize risk for at most 4 tickers\n",
    "mod.setObjective(sum((wi3[i]*wi3[j]*C[i,j]) \n",
    "                     for j in range (len(C)) for i in range(len(C))), GRB.MINIMIZE)"
   ]
  },
  {
   "cell_type": "code",
   "execution_count": 15,
   "metadata": {},
   "outputs": [],
   "source": [
    "mod.update()"
   ]
  },
  {
   "cell_type": "code",
   "execution_count": 16,
   "metadata": {
    "scrolled": true
   },
   "outputs": [
    {
     "name": "stdout",
     "output_type": "stream",
     "text": [
      "Optimize a model with 1181 rows, 1174 columns and 3522 nonzeros\n",
      "Model has 76245 quadratic objective terms\n",
      "Variable types: 784 continuous, 390 integer (390 binary)\n",
      "Coefficient statistics:\n",
      "  Matrix range     [1e-06, 1e+00]\n",
      "  Objective range  [0e+00, 0e+00]\n",
      "  QObjective range [2e-07, 8e-02]\n",
      "  Bounds range     [1e+00, 1e+00]\n",
      "  RHS range        [5e-03, 4e+00]\n",
      "Presolve removed 788 rows and 394 columns\n",
      "Presolve time: 0.02s\n",
      "Presolved: 393 rows, 780 columns, 1950 nonzeros\n",
      "Presolved model has 76245 quadratic objective terms\n",
      "Variable types: 390 continuous, 390 integer (390 binary)\n",
      "Found heuristic solution: objective 0.0009032\n",
      "\n",
      "Root relaxation: objective 2.878501e-05, 129 iterations, 0.01 seconds\n",
      "\n",
      "    Nodes    |    Current Node    |     Objective Bounds      |     Work\n",
      " Expl Unexpl |  Obj  Depth IntInf | Incumbent    BestBd   Gap | It/Node Time\n",
      "\n",
      "     0     0    0.00003    0   21    0.00090    0.00003  96.8%     -    0s\n",
      "H    0     0                       0.0000783    0.00003  63.3%     -    0s\n",
      "     0     0    0.00003    0   21    0.00008    0.00003  63.3%     -    0s\n",
      "     0     0    0.00003    0   21    0.00008    0.00003  63.3%     -    0s\n",
      "     0     2    0.00003    0   21    0.00008    0.00003  63.3%     -    0s\n",
      "H  103    91                       0.0000752    0.00003  61.7%  32.5    1s\n",
      "H  681   312                       0.0000707    0.00003  58.1%  71.0    2s\n",
      "H  895   342                       0.0000675    0.00003  56.1%  75.7    2s\n",
      "  2118   760    0.00007   68   23    0.00007    0.00003  52.5%  71.5    5s\n",
      "  5509  1695    0.00005   22   24    0.00007    0.00004  48.1%  49.6   10s\n",
      " 14133  6945    0.00007   38   13    0.00007    0.00004  38.0%  37.7   15s\n",
      " 22686 10925    0.00007   32   14    0.00007    0.00005  30.0%  35.8   20s\n",
      " 30250 12115    0.00005   25   26    0.00007    0.00005  19.5%  35.8   25s\n",
      " 36143 12095     cutoff   50         0.00007    0.00006  15.4%  34.8   31s\n",
      " 40744 11774     cutoff   45         0.00007    0.00006  13.3%  34.7   35s\n",
      " 47974 12127    0.00006   79   16    0.00007    0.00006  11.7%  34.6   40s\n",
      " 54295 12728     cutoff   47         0.00007    0.00006  10.8%  34.1   45s\n",
      " 61635 13123     cutoff   35         0.00007    0.00006  9.75%  33.0   50s\n",
      " 68338 13331     cutoff   23         0.00007    0.00006  8.92%  32.4   55s\n",
      " 75559 12990     cutoff   40         0.00007    0.00006  8.10%  31.4   60s\n",
      " 81739 12290     cutoff   46         0.00007    0.00006  7.21%  31.4   65s\n",
      " 88679 11942     cutoff   69         0.00007    0.00006  6.53%  30.7   70s\n",
      " 96936 11044     cutoff   49         0.00007    0.00006  5.58%  29.7   75s\n",
      " 103565 10654     cutoff   39         0.00007    0.00006  4.95%  29.1   80s\n",
      " 109823  9887     cutoff   38         0.00007    0.00006  4.32%  28.5   85s\n",
      " 117064  8631     cutoff  110         0.00007    0.00007  3.65%  28.1   90s\n",
      " 123936  7395     cutoff   40         0.00007    0.00007  3.03%  27.4   95s\n",
      " 131189  5778     cutoff   73         0.00007    0.00007  2.34%  26.8  100s\n",
      " 138007  3610     cutoff   69         0.00007    0.00007  1.59%  26.0  105s\n",
      "\n",
      "Cutting planes:\n",
      "  MIR: 5\n",
      "  Flow cover: 7\n",
      "\n",
      "Explored 146236 nodes (3669500 simplex iterations) in 109.53 seconds\n",
      "Thread count was 12 (of 12 available processors)\n",
      "\n",
      "Solution count 5: 6.75347e-05 7.06604e-05 7.51769e-05 ... 0.000903152\n",
      "\n",
      "Optimal solution found (tolerance 1.00e-04)\n",
      "Best objective 6.753470760728e-05, best bound 6.753470760728e-05, gap 0.0000%\n"
     ]
    }
   ],
   "source": [
    "mod.optimize()"
   ]
  },
  {
   "cell_type": "markdown",
   "metadata": {},
   "source": [
    "## 1 c)  \n",
    "For Model 3, report the optimal risk, solver time, and the ticker and weight on each of the\n",
    "four stocks selected by the model.  \n",
    "\n",
    "Optimal Risk: 6.753470760728e-05  \n",
    "Solver Time: 109.53 seconds  \n",
    "Ticker and Weight: See code below:\n"
   ]
  },
  {
   "cell_type": "code",
   "execution_count": 17,
   "metadata": {
    "scrolled": true
   },
   "outputs": [
    {
     "name": "stdout",
     "output_type": "stream",
     "text": [
      "CME 0.12641141929490476\n",
      "LLY 0.07547619035437456\n",
      "NVDA 0.0437537067284318\n",
      "BND 0.7543586836222889\n"
     ]
    }
   ],
   "source": [
    "#weight of the 4 stocks selected by the model\n",
    "for i in range(len(C)):\n",
    "    if x[i].x ==1:\n",
    "        print(tickers[i], wi3[i].x)"
   ]
  },
  {
   "cell_type": "markdown",
   "metadata": {},
   "source": [
    "##  Model 3 (with parameters) "
   ]
  },
  {
   "cell_type": "code",
   "execution_count": 18,
   "metadata": {},
   "outputs": [],
   "source": [
    "#Setting decision variables\n",
    "d_Q4 = 390\n",
    "wi4 = mod.addVars(d_Q4)\n",
    "x = mod.addVars(d_Q4, vtype = GRB.BINARY)"
   ]
  },
  {
   "cell_type": "code",
   "execution_count": 19,
   "metadata": {},
   "outputs": [
    {
     "data": {
      "text/plain": [
       "<gurobi.Constr *Awaiting Model Update*>"
      ]
     },
     "execution_count": 19,
     "metadata": {},
     "output_type": "execute_result"
    }
   ],
   "source": [
    "#using constraints from model 3\n",
    "mod.addConstr(sum(wi4[i] for i in range(len(C)))==1)\n",
    "for i in range(len(C)):\n",
    "    mod.addConstr(wi4[i]>=0)\n",
    "mod.addConstr(sum(wi4[i]*avg_return[i] for i in range(len(C)))>=0.005)\n",
    "for i in range(len(C)):\n",
    "    mod.addConstr(x[i] >= wi4[i])\n",
    "mod.addConstr(sum(x[i] for i in range(len(C))) <=4)"
   ]
  },
  {
   "cell_type": "code",
   "execution_count": null,
   "metadata": {},
   "outputs": [],
   "source": [
    "#setting the objective value\n",
    "mod.setObjective(sum((wi4[i]*wi4[j]*C[i,j]) \n",
    "                     for j in range (len(C)) for i in range(len(C))), GRB.MINIMIZE)"
   ]
  },
  {
   "cell_type": "code",
   "execution_count": 21,
   "metadata": {},
   "outputs": [
    {
     "name": "stdout",
     "output_type": "stream",
     "text": [
      "Changed value of parameter TimeLimit to 30.0\n",
      "   Prev: 1e+100  Min: 0.0  Max: 1e+100  Default: 1e+100\n"
     ]
    }
   ],
   "source": [
    "#setting Gurobi to timeout\n",
    "mod.Params.TimeLimit = 30.0"
   ]
  },
  {
   "cell_type": "code",
   "execution_count": 22,
   "metadata": {},
   "outputs": [],
   "source": [
    "mod.update()"
   ]
  },
  {
   "cell_type": "code",
   "execution_count": 23,
   "metadata": {
    "scrolled": true
   },
   "outputs": [
    {
     "name": "stdout",
     "output_type": "stream",
     "text": [
      "Optimize a model with 1964 rows, 1954 columns and 5862 nonzeros\n",
      "Model has 76245 quadratic objective terms\n",
      "Variable types: 1174 continuous, 780 integer (780 binary)\n",
      "Coefficient statistics:\n",
      "  Matrix range     [1e-06, 1e+00]\n",
      "  Objective range  [0e+00, 0e+00]\n",
      "  QObjective range [2e-07, 8e-02]\n",
      "  Bounds range     [1e+00, 1e+00]\n",
      "  RHS range        [5e-03, 4e+00]\n",
      "\n",
      "MIP start produced solution with objective 0.00118466 (0.08s)\n",
      "MIP start produced solution with objective 0.000764814 (0.09s)\n",
      "MIP start produced solution with objective 8.32013e-05 (0.13s)\n",
      "MIP start produced solution with objective 8.18709e-05 (0.51s)\n",
      "MIP start produced solution with objective 7.06604e-05 (1.27s)\n",
      "MIP start produced solution with objective 6.75857e-05 (1.32s)\n",
      "MIP start produced solution with objective 6.75347e-05 (1.89s)\n",
      "Loaded MIP start with objective 6.75347e-05\n",
      "Processed MIP start in 3.56 seconds\n",
      "\n",
      "Presolve removed 1178 rows and 394 columns\n",
      "Presolve time: 0.03s\n",
      "Presolved: 786 rows, 1560 columns, 3900 nonzeros\n",
      "Presolved model has 76245 quadratic objective terms\n",
      "Variable types: 780 continuous, 780 integer (780 binary)\n",
      "\n",
      "Root relaxation: objective 2.878501e-05, 133 iterations, 0.01 seconds\n",
      "\n",
      "    Nodes    |    Current Node    |     Objective Bounds      |     Work\n",
      " Expl Unexpl |  Obj  Depth IntInf | Incumbent    BestBd   Gap | It/Node Time\n",
      "\n",
      "     0     0    0.00003    0   21    0.00007    0.00003  57.4%     -    3s\n",
      "     0     0    0.00003    0   21    0.00007    0.00003  57.4%     -    3s\n",
      "     0     0    0.00003    0   21    0.00007    0.00003  57.4%     -    4s\n",
      "     0     2    0.00003    0   21    0.00007    0.00003  57.4%     -    4s\n",
      "   105    87     cutoff   17         0.00007    0.00003  57.4%  24.0    5s\n",
      "  2318   809    0.00006   15   16    0.00007    0.00003  49.0%  71.3   10s\n",
      "  6481  2360    0.00006   40   19    0.00007    0.00004  48.1%  44.1   15s\n",
      " 13491  6503    0.00006   32   23    0.00007    0.00004  38.4%  39.6   20s\n",
      " 20130  9673    0.00006   34   18    0.00007    0.00005  32.5%  36.4   25s\n",
      " 28391 11614     cutoff   37         0.00007    0.00005  20.6%  33.6   30s\n",
      "\n",
      "Explored 29201 nodes (981367 simplex iterations) in 30.09 seconds\n",
      "Thread count was 12 (of 12 available processors)\n",
      "\n",
      "Solution count 7: 6.75347e-05 6.75857e-05 7.06604e-05 ... 0.00118466\n",
      "\n",
      "Time limit reached\n",
      "Best objective 6.753470760728e-05, best bound 5.369422612446e-05, gap 20.4939%\n"
     ]
    }
   ],
   "source": [
    "mod.optimize()"
   ]
  },
  {
   "cell_type": "markdown",
   "metadata": {},
   "source": [
    "## 3a)\n",
    "\n",
    "Set Gurobi to terminate after 30 seconds by including XYZ.Params.TimeLimit = 30.0 in\n",
    "your code for Model 3, where ’XYZ’ is the name of your model. How does the objective\n",
    "function value at termination compare the optimal value obtained in question 1c)?\n",
    "\n",
    "Answer: The best objective value does not change. However, due to temporal constraints, Gurobi terminates  at a gap of 20% from the objective value, with the best bound value being lower than in 1c)."
   ]
  },
  {
   "cell_type": "code",
   "execution_count": 24,
   "metadata": {},
   "outputs": [
    {
     "name": "stdout",
     "output_type": "stream",
     "text": [
      "Changed value of parameter MIPGap to 0.1\n",
      "   Prev: 0.0001  Min: 0.0  Max: 1e+100  Default: 0.0001\n"
     ]
    }
   ],
   "source": [
    "#setting Gurobi to terminate at a gap of 10%\n",
    "mod.Params.MIPGap = 0.1"
   ]
  },
  {
   "cell_type": "code",
   "execution_count": 25,
   "metadata": {},
   "outputs": [],
   "source": [
    "mod.update()"
   ]
  },
  {
   "cell_type": "code",
   "execution_count": 26,
   "metadata": {},
   "outputs": [
    {
     "name": "stdout",
     "output_type": "stream",
     "text": [
      "Optimize a model with 1964 rows, 1954 columns and 5862 nonzeros\n",
      "Model has 76245 quadratic objective terms\n",
      "Variable types: 1174 continuous, 780 integer (780 binary)\n",
      "Coefficient statistics:\n",
      "  Matrix range     [1e-06, 1e+00]\n",
      "  Objective range  [0e+00, 0e+00]\n",
      "  QObjective range [2e-07, 8e-02]\n",
      "  Bounds range     [1e+00, 1e+00]\n",
      "  RHS range        [5e-03, 4e+00]\n",
      "Presolved: 786 rows, 1560 columns, 3900 nonzeros\n",
      "Presolved model has 76245 quadratic objective terms\n",
      "\n",
      "Continuing optimization...\n",
      "\n",
      " 29201 11681    0.00005   28   22    0.00007    0.00005  20.5%  33.6   30s\n",
      " 34563 11725    0.00006   41   27    0.00007    0.00006  15.5%  33.2   35s\n",
      " 37314 11715     cutoff   48         0.00007    0.00006  14.3%  33.1   40s\n",
      " 42948 11415    0.00006   32   21    0.00007    0.00006  12.4%  32.8   45s\n",
      " 47849 11454    0.00006   61   18    0.00007    0.00006  11.3%  32.1   50s\n",
      " 53541 11737     cutoff   45         0.00007    0.00006  10.2%  32.0   55s\n",
      "\n",
      "Cutting planes:\n",
      "  MIR: 5\n",
      "  Flow cover: 6\n",
      "\n",
      "Explored 55786 nodes (1752834 simplex iterations) in 26.29 seconds\n",
      "Thread count was 12 (of 12 available processors)\n",
      "\n",
      "Solution count 7: 6.75347e-05 6.75857e-05 7.06604e-05 ... 0.00118466\n",
      "\n",
      "Optimal solution found (tolerance 1.00e-01)\n",
      "Best objective 6.753470760728e-05, best bound 6.088097876734e-05, gap 9.8523%\n"
     ]
    }
   ],
   "source": [
    "mod.optimize()"
   ]
  },
  {
   "cell_type": "markdown",
   "metadata": {},
   "source": [
    "## 3b)\n",
    " Set Gurobi to terminate after reaching a gap of 10% by including XYZ.Params.MIPGap = 0.1\n",
    "in your code for Model 3, where ’XYZ’ is the name of your model. (Note: The default gap\n",
    "in Gurobi is 0.0001.) How does the solver time compare with the solution time obtained in\n",
    "question 1c)?  \n",
    "  \n",
    "  Answer: The optimal value stays the same, but since we set Gurobi to terminate within 10% gap, the gap value is not 0.0% as in 1c) which means that the solver, while tracing the path to the optimal value terminated within the 10% bounds of it."
   ]
  },
  {
   "cell_type": "markdown",
   "metadata": {},
   "source": [
    "## 2 a) \n",
    "Is the optimal risk in Model 1 higher or lower than Model 2? Explain why in 1-2 sentences.  \n",
    "Optimal Risk in Model 1 is higher than in Model 2 because there are more degrees of freedom, more nodes to explore in terms of achieving an optimal minimum in model 2 (In comparison to 390 tickers for model 2, model 1 deals only with 4 tickers). "
   ]
  },
  {
   "cell_type": "markdown",
   "metadata": {},
   "source": [
    "##  2b)\n",
    "Is the optimal risk in Model 2 higher or lower than Model 3? Explain why in 1-2 sentences.  \n",
    "  \n",
    "Optimal Risk in Model 2 is the least of all 3 because the model has unresticted freedom to approach the optimal solution. In model 3, this is restricted again by picking only the 4 most optimal ticker values. While not as arbitrary as in model 1, this is still not as free as in model 2, and thus, the Model 2 has the lowest optimal risk.\n",
    "  \n"
   ]
  }
 ],
 "metadata": {
  "kernelspec": {
   "display_name": "Python 3",
   "language": "python",
   "name": "python3"
  },
  "language_info": {
   "codemirror_mode": {
    "name": "ipython",
    "version": 3
   },
   "file_extension": ".py",
   "mimetype": "text/x-python",
   "name": "python",
   "nbconvert_exporter": "python",
   "pygments_lexer": "ipython3",
   "version": "3.7.1"
  }
 },
 "nbformat": 4,
 "nbformat_minor": 2
}
