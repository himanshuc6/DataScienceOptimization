{
 "cells": [
  {
   "cell_type": "markdown",
   "metadata": {},
   "source": [
    "# MGMTMSA 403 Assignment 4: Logistic Regression and Gradient Descent\n"
   ]
  },
  {
   "cell_type": "code",
   "execution_count": 1,
   "metadata": {},
   "outputs": [],
   "source": [
    "import numpy as np\n",
    "from numpy import genfromtxt\n",
    "\n",
    "# Load data\n",
    "data = genfromtxt('LRTrain.csv', delimiter=',',skip_header = 1)\n",
    "n = data.shape[0]\n",
    "d = data.shape[1]-1\n",
    "\n",
    "# get feature data\n",
    "x = data[:,0:d]\n",
    "\n",
    "# get label data\n",
    "y = data[:,d]\n",
    "\n",
    "# initialize weights\n",
    "w = np.zeros(d)\n",
    "\n",
    "## Define gradient function\n",
    "def grad(w,x,y):\n",
    "    g = np.zeros(d)\n",
    "    for i in range(n):\n",
    "        g = g + (1/(1+np.exp(np.dot(-w,x[i,:])))-y[i])*x[i,:]\n",
    "    return (1/n)*g\n",
    "\n",
    "## Define negative log likelihood function\n",
    "def fval(w,x,y):\n",
    "    v = 0;\n",
    "    for i in range(n):\n",
    "        v = v + (y[i]*np.log(1+np.exp(-np.dot(w,x[i,:]))) + (1-y[i])*np.log(1+np.exp(np.dot(w,x[i,:]))))\n",
    "    return (1/n)*v"
   ]
  },
  {
   "cell_type": "code",
   "execution_count": 2,
   "metadata": {},
   "outputs": [
    {
     "data": {
      "text/plain": [
       "0.6931471805599467"
      ]
     },
     "execution_count": 2,
     "metadata": {},
     "output_type": "execute_result"
    }
   ],
   "source": [
    "import numpy as np\n",
    "from numpy import genfromtxt\n",
    "import csv\n",
    "import pandas as pd\n",
    "fval(w,x,y)"
   ]
  },
  {
   "cell_type": "code",
   "execution_count": 3,
   "metadata": {},
   "outputs": [],
   "source": [
    "#intializing weights as 0's\n",
    "w = np.zeros(d)\n",
    "#intializing opti list to store optimum values in each iteration\n",
    "opti=[]\n",
    "\n",
    "#gradient descent iteration\n",
    "for iteration in range(10000):\n",
    "    opti.append(fval(w,x,y))\n",
    "    gamma=0.00001\n",
    "    if(np.linalg.norm(grad(w,x,y))<0.3):\n",
    "        break\n",
    "    w=w-gamma*grad(w,x,y)\n"
   ]
  },
  {
   "cell_type": "code",
   "execution_count": 4,
   "metadata": {},
   "outputs": [
    {
     "data": {
      "text/plain": [
       "'The objective function value is 0.2121791809935516 for the  iteration no. 8384'"
      ]
     },
     "execution_count": 4,
     "metadata": {},
     "output_type": "execute_result"
    }
   ],
   "source": [
    "f\"The objective function value is {fval(w,x,y)} for the  iteration no. {iteration}\""
   ]
  },
  {
   "cell_type": "code",
   "execution_count": 5,
   "metadata": {},
   "outputs": [
    {
     "data": {
      "text/plain": [
       "'The weights are [-1.24164948e-02 -1.35117963e-02 -6.48877902e-02 -1.87522080e-02\\n -7.40469773e-05  2.56147928e-04  5.00864617e-04  2.07498998e-04\\n -1.78802734e-04 -7.92498760e-05 -1.01297417e-04 -1.31635656e-03\\n  1.16664429e-03  1.92971456e-02  2.34688148e-06  7.16649537e-05\\n  1.00009526e-04  2.57384906e-05 -5.70459754e-06  2.11920342e-06\\n -1.28495784e-02 -1.60645424e-02 -5.39192866e-02  2.94453435e-02\\n -7.09890747e-05  9.23567459e-04  1.23954772e-03  3.45492724e-04\\n -1.65620316e-04 -3.30016023e-05]'"
      ]
     },
     "execution_count": 5,
     "metadata": {},
     "output_type": "execute_result"
    }
   ],
   "source": [
    "f\"The weights are {w}\""
   ]
  },
  {
   "cell_type": "code",
   "execution_count": 6,
   "metadata": {},
   "outputs": [],
   "source": [
    "##Load test data\n",
    "data = genfromtxt('LRTest.csv', delimiter=',',skip_header = 1)\n",
    "n_test = data.shape[0]\n",
    "d_test = data.shape[1]-1\n",
    "\n",
    "# get feature data\n",
    "x_test = data[:,0:d_test]\n",
    "\n",
    "# get label data\n",
    "y_test = data[:,d_test]"
   ]
  },
  {
   "cell_type": "code",
   "execution_count": 7,
   "metadata": {},
   "outputs": [],
   "source": [
    "#calculation of probabilities in test data\n",
    "y_pred=np.dot(x_test,w)"
   ]
  },
  {
   "cell_type": "code",
   "execution_count": 8,
   "metadata": {},
   "outputs": [],
   "source": [
    "#intializing dataframe for output\n",
    "dataframe = pd.DataFrame(columns=[\"Threshold\",\"TPR\",\"FPR\",\"TNR\",\"FNR\"])\n",
    "\n",
    "#loop over threshold values to calculate TPR,FPR,TNR,FNR on each threshold\n",
    "for threshold in range(0,11,1):\n",
    "    y_int_pred=([1 if (1/(1+np.exp(-y_pred[i]))) >(threshold/10) else 0 for i in range(n_test)])\n",
    "    true_postives= [1 if (y_int_pred[i]==1 and y_test[i]==1) else 0 for i in range(n_test)]\n",
    "    false_positive= [1 if (y_int_pred[i]==1 and y_test[i]==0) else 0 for i in range(n_test)]\n",
    "    tpr=round(sum(true_postives)/sum(y_test),2)\n",
    "    fpr=round(sum(false_positive)/list(y_test).count(0),2)\n",
    "    tnr=1-fpr\n",
    "    fnr=1-tpr\n",
    "    dataframe.loc[threshold]=[threshold/10,tpr,fpr,tnr,fnr] "
   ]
  },
  {
   "cell_type": "code",
   "execution_count": 9,
   "metadata": {},
   "outputs": [
    {
     "data": {
      "text/html": [
       "<div>\n",
       "<style scoped>\n",
       "    .dataframe tbody tr th:only-of-type {\n",
       "        vertical-align: middle;\n",
       "    }\n",
       "\n",
       "    .dataframe tbody tr th {\n",
       "        vertical-align: top;\n",
       "    }\n",
       "\n",
       "    .dataframe thead th {\n",
       "        text-align: right;\n",
       "    }\n",
       "</style>\n",
       "<table border=\"1\" class=\"dataframe\">\n",
       "  <thead>\n",
       "    <tr style=\"text-align: right;\">\n",
       "      <th></th>\n",
       "      <th>Threshold</th>\n",
       "      <th>TPR</th>\n",
       "      <th>FPR</th>\n",
       "      <th>TNR</th>\n",
       "      <th>FNR</th>\n",
       "    </tr>\n",
       "  </thead>\n",
       "  <tbody>\n",
       "    <tr>\n",
       "      <td>0</td>\n",
       "      <td>0.0</td>\n",
       "      <td>1.00</td>\n",
       "      <td>1.00</td>\n",
       "      <td>0.00</td>\n",
       "      <td>0.00</td>\n",
       "    </tr>\n",
       "    <tr>\n",
       "      <td>1</td>\n",
       "      <td>0.1</td>\n",
       "      <td>0.97</td>\n",
       "      <td>0.37</td>\n",
       "      <td>0.63</td>\n",
       "      <td>0.03</td>\n",
       "    </tr>\n",
       "    <tr>\n",
       "      <td>2</td>\n",
       "      <td>0.2</td>\n",
       "      <td>0.95</td>\n",
       "      <td>0.15</td>\n",
       "      <td>0.85</td>\n",
       "      <td>0.05</td>\n",
       "    </tr>\n",
       "    <tr>\n",
       "      <td>3</td>\n",
       "      <td>0.3</td>\n",
       "      <td>0.90</td>\n",
       "      <td>0.10</td>\n",
       "      <td>0.90</td>\n",
       "      <td>0.10</td>\n",
       "    </tr>\n",
       "    <tr>\n",
       "      <td>4</td>\n",
       "      <td>0.4</td>\n",
       "      <td>0.88</td>\n",
       "      <td>0.05</td>\n",
       "      <td>0.95</td>\n",
       "      <td>0.12</td>\n",
       "    </tr>\n",
       "    <tr>\n",
       "      <td>5</td>\n",
       "      <td>0.5</td>\n",
       "      <td>0.87</td>\n",
       "      <td>0.05</td>\n",
       "      <td>0.95</td>\n",
       "      <td>0.13</td>\n",
       "    </tr>\n",
       "    <tr>\n",
       "      <td>6</td>\n",
       "      <td>0.6</td>\n",
       "      <td>0.87</td>\n",
       "      <td>0.03</td>\n",
       "      <td>0.97</td>\n",
       "      <td>0.13</td>\n",
       "    </tr>\n",
       "    <tr>\n",
       "      <td>7</td>\n",
       "      <td>0.7</td>\n",
       "      <td>0.83</td>\n",
       "      <td>0.03</td>\n",
       "      <td>0.97</td>\n",
       "      <td>0.17</td>\n",
       "    </tr>\n",
       "    <tr>\n",
       "      <td>8</td>\n",
       "      <td>0.8</td>\n",
       "      <td>0.81</td>\n",
       "      <td>0.01</td>\n",
       "      <td>0.99</td>\n",
       "      <td>0.19</td>\n",
       "    </tr>\n",
       "    <tr>\n",
       "      <td>9</td>\n",
       "      <td>0.9</td>\n",
       "      <td>0.73</td>\n",
       "      <td>0.01</td>\n",
       "      <td>0.99</td>\n",
       "      <td>0.27</td>\n",
       "    </tr>\n",
       "    <tr>\n",
       "      <td>10</td>\n",
       "      <td>1.0</td>\n",
       "      <td>0.00</td>\n",
       "      <td>0.00</td>\n",
       "      <td>1.00</td>\n",
       "      <td>1.00</td>\n",
       "    </tr>\n",
       "  </tbody>\n",
       "</table>\n",
       "</div>"
      ],
      "text/plain": [
       "    Threshold   TPR   FPR   TNR   FNR\n",
       "0         0.0  1.00  1.00  0.00  0.00\n",
       "1         0.1  0.97  0.37  0.63  0.03\n",
       "2         0.2  0.95  0.15  0.85  0.05\n",
       "3         0.3  0.90  0.10  0.90  0.10\n",
       "4         0.4  0.88  0.05  0.95  0.12\n",
       "5         0.5  0.87  0.05  0.95  0.13\n",
       "6         0.6  0.87  0.03  0.97  0.13\n",
       "7         0.7  0.83  0.03  0.97  0.17\n",
       "8         0.8  0.81  0.01  0.99  0.19\n",
       "9         0.9  0.73  0.01  0.99  0.27\n",
       "10        1.0  0.00  0.00  1.00  1.00"
      ]
     },
     "execution_count": 9,
     "metadata": {},
     "output_type": "execute_result"
    }
   ],
   "source": [
    "dataframe"
   ]
  },
  {
   "cell_type": "code",
   "execution_count": null,
   "metadata": {},
   "outputs": [],
   "source": []
  }
 ],
 "metadata": {
  "kernelspec": {
   "display_name": "Python 3",
   "language": "python",
   "name": "python3"
  },
  "language_info": {
   "codemirror_mode": {
    "name": "ipython",
    "version": 3
   },
   "file_extension": ".py",
   "mimetype": "text/x-python",
   "name": "python",
   "nbconvert_exporter": "python",
   "pygments_lexer": "ipython3",
   "version": "3.7.4"
  }
 },
 "nbformat": 4,
 "nbformat_minor": 2
}
